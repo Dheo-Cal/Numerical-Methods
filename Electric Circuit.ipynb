{
 "cells": [
  {
   "attachments": {},
   "cell_type": "markdown",
   "metadata": {},
   "source": [
    "### Aplikasi Metode Runge-Kutta Orde 4 pada Permasalahan Rangkaian R-L, R-C, dan R-L-C."
   ]
  },
  {
   "attachments": {},
   "cell_type": "markdown",
   "metadata": {},
   "source": [
    "Bagian 1: Rangkaian R-L.\n",
    "\n",
    "Pada rangkaian R-L, persamaan diferensial yang mendefinisikan kuat arus listriknya sebagai fungsi waktu adalah: $$Ri+L\\frac{\\mathrm{d}i}{\\mathrm{d}t}=\\varepsilon$$ Sehingga, $$\\frac{\\mathrm{d}i}{\\mathrm{d}t}=\\frac{\\varepsilon-Ri}{L}$$ Persamaan ini akan diselesaikan menggunakan metode Runge-Kutta Orde 4 untuk $R=10$ K $\\Omega$, $L=1$ mH, dan $\\varepsilon=5$ V, di mana kondisi awalnya adalah rangkaian dihubungkan dengan $\\varepsilon$ pada $t=0$."
   ]
  },
  {
   "cell_type": "code",
   "execution_count": null,
   "metadata": {},
   "outputs": [],
   "source": [
    "#Konstanta\n",
    "R=10*1e3\n",
    "L=1*1e-3\n",
    "eps=5\n",
    "\n",
    "#Definisi Pers. Diferensial\n",
    "def didt(t,i):\n",
    "    return (eps-R*i)/L\n",
    "\n",
    "#Definisi Metode Runge-Kutta Orde 4"
   ]
  }
 ],
 "metadata": {
  "kernelspec": {
   "display_name": "Python 3",
   "language": "python",
   "name": "python3"
  },
  "language_info": {
   "name": "python",
   "version": "3.11.1 (tags/v3.11.1:a7a450f, Dec  6 2022, 19:58:39) [MSC v.1934 64 bit (AMD64)]"
  },
  "orig_nbformat": 4,
  "vscode": {
   "interpreter": {
    "hash": "e7b089335de222d15d9e7cab9cf966891081b4faf592b98ee88cb325fd975215"
   }
  }
 },
 "nbformat": 4,
 "nbformat_minor": 2
}
