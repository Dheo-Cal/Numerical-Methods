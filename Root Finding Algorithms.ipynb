{
 "cells": [
  {
   "cell_type": "markdown",
   "metadata": {},
   "source": [
    "## The Root Finding Method: Bisection, False-position, Newton-Raphson, and Secant"
   ]
  },
  {
   "attachments": {},
   "cell_type": "markdown",
   "metadata": {},
   "source": [
    "Package importing process."
   ]
  },
  {
   "cell_type": "code",
   "execution_count": 1,
   "metadata": {},
   "outputs": [],
   "source": [
    "import numpy as np\n",
    "import math\n",
    "import matplotlib.pyplot as plt"
   ]
  },
  {
   "attachments": {},
   "cell_type": "markdown",
   "metadata": {},
   "source": [
    "This is the function that we'll be solving using these four methods. This function is a nonlinear function which explains the phenomenon of blackbody radiation."
   ]
  },
  {
   "cell_type": "markdown",
   "metadata": {},
   "source": [
    "### Wien's Displacement Constant"
   ]
  },
  {
   "cell_type": "markdown",
   "metadata": {},
   "source": [
    "Planck's radiation law tells us that the intensity of radiation per unit area and per unit wavelength from a blackbody at temperature $T$ is $$I\\left(\\lambda\\right)=\\frac{2\\pi hc^2\\lambda^{-5}}{e^{\\frac{hc}{\\lambda \\kappa_BT}-1}}$$ where $h$ is Planck's constant, $c$ is the speed of light, and $k_B$ is Boltzmann's constant."
   ]
  },
  {
   "cell_type": "markdown",
   "metadata": {},
   "source": [
    "By differentiating, we know that the wavelength $\\lambda$ at which the emitted radiation is strongest is the solution of the equation $$5e^{-\\frac{hc}{\\lambda \\kappa_B T}}+\\frac{hc}{\\lambda \\kappa_B T}-5=0$$ If we make the substitution that $$x=\\frac{hc}{\\lambda \\kappa_B T}$$ we could see that the equation becomes $$5e^{-x}+x-5=0$$ where we know that the wavelength of maximum emitted radiation is related to temperature by $$\\lambda=\\frac{b}{T}$$ The so-called Wien's displacement constant is defined by $$b=\\frac{hc}{\\kappa_B x}$$"
   ]
  },
  {
   "cell_type": "markdown",
   "metadata": {},
   "source": [
    "### These are the root finding methods that are going to be used. The methods consist of the bisection method, false-position method, Newton-Raphson method, and secant method."
   ]
  },
  {
   "cell_type": "markdown",
   "metadata": {},
   "source": [
    "This is the bisection method. We first define the function and then define the bisection method."
   ]
  },
  {
   "cell_type": "code",
   "execution_count": 2,
   "metadata": {},
   "outputs": [],
   "source": [
    "# Global constants\n",
    "\n",
    "# Wien\n",
    "clight=3*1e8\n",
    "h=6.62*1e-34\n",
    "kb=1.3806*1e-23\n",
    "\n",
    "# Square Well Potential\n",
    "w=1 #in m\n",
    "V=20 #in eV\n",
    "me=9.1094*1e-31 #in kg\n",
    "hbar=h/(2*math.pi)\n"
   ]
  },
  {
   "attachments": {},
   "cell_type": "markdown",
   "metadata": {},
   "source": [
    "Here's a graph of the function."
   ]
  },
  {
   "cell_type": "code",
   "execution_count": 3,
   "metadata": {},
   "outputs": [
    {
     "data": {
      "image/png": "[encoded data removed]",
      "text/plain": [
       "<Figure size 640x480 with 1 Axes>"
      ]
     },
     "metadata": {},
     "output_type": "display_data"
    }
   ],
   "source": [
    "#For the problem in Wien's Displacement Law\n",
    "\n",
    "x=np.linspace(-1,7,1000)\n",
    "y=5*np.exp(-x)+x-5\n",
    "\n",
    "ax = plt.gca()\n",
    "ax.spines['top'].set_color('none')\n",
    "ax.spines['left'].set_position('zero')\n",
    "ax.spines['right'].set_color('none')\n",
    "ax.spines['bottom'].set_position('zero')\n",
    "\n",
    "plt.plot(x,y)\n",
    "plt.show()"
   ]
  },
  {
   "attachments": {},
   "cell_type": "markdown",
   "metadata": {},
   "source": [
    "This is the bisection method and the false-position method, written in the form of a function."
   ]
  },
  {
   "cell_type": "code",
   "execution_count": 4,
   "metadata": {},
   "outputs": [],
   "source": [
    "def f(x):\n",
    "    return 5*math.exp(-x)+x-5\n",
    "\n",
    "def bisection(a,b,tol=1e-6):\n",
    "    if f(a)*f(b)>0:\n",
    "        return print(\"The initial values have the same sign when substituted to the function\")\n",
    "    n=0\n",
    "    \n",
    "    while (b-a)>tol:\n",
    "        x=(a+b)/2\n",
    "        fx=f(x)\n",
    "        if fx==0:\n",
    "            return n,x\n",
    "        elif f(a)*f(x)<0:\n",
    "            b=x\n",
    "        else:\n",
    "            a=x\n",
    "        \n",
    "        n+=1\n",
    "        print(\"Iteration counter: %s value calculated: %s\" %(n,x))\n",
    "    return (n,x)"
   ]
  },
  {
   "cell_type": "code",
   "execution_count": 5,
   "metadata": {},
   "outputs": [],
   "source": [
    "def falseposition(a,b,tol=1e-4):\n",
    "    if f(a)*f(b)>0:\n",
    "        return print(\"Choose different initial guesses\")\n",
    "    n=0\n",
    "    while (b-a)>tol:\n",
    "        x=(a*f(b)-b*f(a))/(f(b)-f(a))\n",
    "        fx=f(x)\n",
    "        if f(x)==0:\n",
    "            return (n,x)\n",
    "        elif f(a)*f(x)<0:\n",
    "            b=x\n",
    "        else:\n",
    "            a=x\n",
    "        \n",
    "        n+=1\n",
    "        print(\"Iteration counter: %s value calculated: %s\" %(n,x))\n",
    "    return (n,x)"
   ]
  },
  {
   "attachments": {},
   "cell_type": "markdown",
   "metadata": {},
   "source": [
    "The execution of the function."
   ]
  },
  {
   "cell_type": "code",
   "execution_count": 6,
   "metadata": {},
   "outputs": [
    {
     "name": "stdout",
     "output_type": "stream",
     "text": [
      "Iteration counter: 1 value calculated: 4.5\n",
      "Iteration counter: 2 value calculated: 4.75\n",
      "Iteration counter: 3 value calculated: 4.875\n",
      "Iteration counter: 4 value calculated: 4.9375\n",
      "Iteration counter: 5 value calculated: 4.96875\n",
      "Iteration counter: 6 value calculated: 4.953125\n",
      "Iteration counter: 7 value calculated: 4.9609375\n",
      "Iteration counter: 8 value calculated: 4.96484375\n",
      "Iteration counter: 9 value calculated: 4.966796875\n",
      "Iteration counter: 10 value calculated: 4.9658203125\n",
      "Iteration counter: 11 value calculated: 4.96533203125\n",
      "Iteration counter: 12 value calculated: 4.965087890625\n",
      "Iteration counter: 13 value calculated: 4.9652099609375\n",
      "Iteration counter: 14 value calculated: 4.96514892578125\n",
      "Iteration counter: 15 value calculated: 4.965118408203125\n",
      "Iteration counter: 16 value calculated: 4.9651031494140625\n",
      "Iteration counter: 17 value calculated: 4.965110778808594\n",
      "Iteration counter: 18 value calculated: 4.965114593505859\n",
      "Iteration counter: 19 value calculated: 4.965112686157227\n",
      "Iteration counter: 20 value calculated: 4.965113639831543\n",
      "\n",
      "Bisection method\n",
      "Reached convergence after 20 iterations and gives 4.965113639831543 as a result\n"
     ]
    }
   ],
   "source": [
    "c=bisection(4,5,1e-6)\n",
    "print()\n",
    "print(\"Bisection method\")\n",
    "print(\"Reached convergence after %s iterations and gives %s as a result\" %(c[0],c[1]))"
   ]
  },
  {
   "cell_type": "code",
   "execution_count": 7,
   "metadata": {},
   "outputs": [
    {
     "name": "stdout",
     "output_type": "stream",
     "text": [
      "Iteration counter: 1 value calculated: 4.964240184367451\n",
      "Iteration counter: 2 value calculated: 4.965113687178466\n",
      "Iteration counter: 3 value calculated: 4.965114231405094\n",
      "Iteration counter: 4 value calculated: 4.965114231744065\n",
      "\n",
      "False-position method\n",
      "Reached convergence after 4 iterations and gives 4.965114231744276 as a result\n"
     ]
    }
   ],
   "source": [
    "d=falseposition(4,5,1e-6)\n",
    "print()\n",
    "print(\"False-position method\")\n",
    "print(\"Reached convergence after %s iterations and gives %s as a result\" %(d[0],d[1]))"
   ]
  },
  {
   "attachments": {},
   "cell_type": "markdown",
   "metadata": {},
   "source": [
    "This is the Newton-Raphson method. In order to apply this method, we need to know the derivative of the function. Albeit aforementioned, we could approach this by differentiating the function numerically using the finite difference approach. The derivative of a function at a point $x$ could be approximated as $$f'(x)=\\frac{f(x+h)-f(x-h)}{2h}$$ Here, $f$ is the original function and $h$ is the step-size for the approximation."
   ]
  },
  {
   "cell_type": "code",
   "execution_count": 8,
   "metadata": {},
   "outputs": [],
   "source": [
    "def numder(x,h=1e-4):\n",
    "    return (f(x+h)-f(x-h))/(2*h)\n",
    "\n",
    "# Now, the Newton-Raphson method.\n",
    "\n",
    "def NewtonRaphson(a,tol=1e-6):\n",
    "    x=a\n",
    "    n=0\n",
    "    while abs(f(x))>tol:\n",
    "        try:\n",
    "            x=x-f(x)/numder(x)\n",
    "            print(\"Iteration counter: %s value calculated: %s\" %(n+1,x))\n",
    "        except ZeroDivisionError:\n",
    "            print(\"Newton-Raphson method failed: zero denominator\")\n",
    "            break\n",
    "        n+=1\n",
    "    return (n,x)\n"
   ]
  },
  {
   "cell_type": "code",
   "execution_count": 9,
   "metadata": {},
   "outputs": [
    {
     "name": "stdout",
     "output_type": "stream",
     "text": [
      "Iteration counter: 1 value calculated: 5.0000000001658975\n",
      "Iteration counter: 2 value calculated: 4.96513569583459\n",
      "Iteration counter: 3 value calculated: 4.965114231752602\n",
      "\n",
      "Newton-Raphson method\n",
      "Reached convergence after 3 iterations and gives 4.965114231752602 as a result\n"
     ]
    }
   ],
   "source": [
    "e=NewtonRaphson(4)\n",
    "print()\n",
    "print(\"Newton-Raphson method\")\n",
    "print(\"Reached convergence after %s iterations and gives %s as a result\" %(e[0],e[1]))"
   ]
  },
  {
   "attachments": {},
   "cell_type": "markdown",
   "metadata": {},
   "source": [
    "Last on the list, this is the secant method."
   ]
  },
  {
   "cell_type": "code",
   "execution_count": 10,
   "metadata": {},
   "outputs": [],
   "source": [
    "def secant(x0,x1,tol=1e-6):\n",
    "    n=0\n",
    "    while abs(f(x1))>tol:\n",
    "        try:\n",
    "            x2=x1-f(x1)*(x1-x0)/(f(x1)-f(x0))\n",
    "            print(\"Iteration counter: %s value calculated: %s\" %(n+1,x2))\n",
    "        except ZeroDivisionError:\n",
    "            print(\"Secant method failed: zero denominator\")\n",
    "            break\n",
    "        x0=x1\n",
    "        x1=x2\n",
    "        n+=1\n",
    "    return (n,x1)"
   ]
  },
  {
   "cell_type": "code",
   "execution_count": 11,
   "metadata": {},
   "outputs": [
    {
     "name": "stdout",
     "output_type": "stream",
     "text": [
      "Iteration counter: 1 value calculated: 4.945870932564484\n",
      "Iteration counter: 2 value calculated: 4.9648536551336075\n",
      "Iteration counter: 3 value calculated: 4.965114322995045\n",
      "\n",
      "Secant method\n",
      "Reached convergence after 3 iterations and gives 4.965114322995045 as a result\n"
     ]
    }
   ],
   "source": [
    "f=secant(4,6,1e-6)\n",
    "print()\n",
    "print(\"Secant method\")\n",
    "print(\"Reached convergence after %s iterations and gives %s as a result\" %(f[0],f[1]))"
   ]
  },
  {
   "attachments": {},
   "cell_type": "markdown",
   "metadata": {},
   "source": [
    "Here's the summaries on the results that we get from four of the methods mentioned."
   ]
  },
  {
   "cell_type": "code",
   "execution_count": 12,
   "metadata": {},
   "outputs": [
    {
     "name": "stdout",
     "output_type": "stream",
     "text": [
      "Bisection method reached convergence after 20 iterations and gives 4.965113639831543 as a result\n",
      "False-position method reached convergence after 4 iterations and gives 4.965114231744276 as a result\n",
      "Newton-Raphson method reached convergence after 3 iterations and gives 4.965114231752602 as a result\n",
      "Secant method reached convergence after 3 iterations and gives 4.965114322995045 as a result\n"
     ]
    }
   ],
   "source": [
    "print(\"Bisection method reached convergence after %s iterations and gives %s as a result\" %(c[0],c[1]))\n",
    "print(\"False-position method reached convergence after %s iterations and gives %s as a result\" %(d[0],d[1]))\n",
    "print(\"Newton-Raphson method reached convergence after %s iterations and gives %s as a result\" %(e[0],e[1]))\n",
    "print(\"Secant method reached convergence after %s iterations and gives %s as a result\" %(f[0],f[1]))"
   ]
  },
  {
   "attachments": {},
   "cell_type": "markdown",
   "metadata": {},
   "source": [
    "Based on the results above, we could see that four of the methods give a precise solution, where bisection ranks last at speed because it needed more than ten iterations to reach convergence. Taking only four digits after the decimal point, we have $$x=4.9651$$ Hence, the Wien's displacement constant could be calculated below."
   ]
  },
  {
   "cell_type": "code",
   "execution_count": 14,
   "metadata": {},
   "outputs": [
    {
     "name": "stdout",
     "output_type": "stream",
     "text": [
      "0.0028972326797587797\n"
     ]
    }
   ],
   "source": [
    "b=(h*clight)/(kb*4.9651)\n",
    "print(b)"
   ]
  },
  {
   "attachments": {},
   "cell_type": "markdown",
   "metadata": {},
   "source": [
    "There we obtain that $b\\approx 0.0028972$ mK. This result agrees with the accepted value, which is $0.0028977$ mK. For a conclusion, four of the root-finding methods are able to evaluate the roots of a function quite accurately, where Newton-Raphson method ranks first in efficiency because it needed the least iterations to reach convergence and it only needed one value of initial guess."
   ]
  }
 ],
 "metadata": {
  "kernelspec": {
   "display_name": "Python 3.11.1 64-bit",
   "language": "python",
   "name": "python3"
  },
  "language_info": {
   "codemirror_mode": {
    "name": "ipython",
    "version": 3
   },
   "file_extension": ".py",
   "mimetype": "text/x-python",
   "name": "python",
   "nbconvert_exporter": "python",
   "pygments_lexer": "ipython3",
   "version": "3.11.1"
  },
  "orig_nbformat": 4,
  "vscode": {
   "interpreter": {
    "hash": "e7b089335de222d15d9e7cab9cf966891081b4faf592b98ee88cb325fd975215"
   }
  }
 },
 "nbformat": 4,
 "nbformat_minor": 2
}
